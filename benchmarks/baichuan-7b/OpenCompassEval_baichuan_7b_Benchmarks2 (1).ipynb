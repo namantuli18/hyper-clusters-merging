{
  "cells": [
    {
      "cell_type": "code",
      "execution_count": null,
      "metadata": {
        "colab": {
          "base_uri": "https://localhost:8080/"
        },
        "id": "WT2Xbv4VvTXD",
        "outputId": "958f4350-dfe3-481d-8633-787f48962c12"
      },
      "outputs": [
        {
          "output_type": "stream",
          "name": "stdout",
          "text": [
            "Cloning into 'opencompass'...\n",
            "remote: Enumerating objects: 14271, done.\u001b[K\n",
            "remote: Counting objects: 100% (3182/3182), done.\u001b[K\n",
            "remote: Compressing objects: 100% (905/905), done.\u001b[K\n",
            "remote: Total 14271 (delta 2571), reused 2277 (delta 2277), pack-reused 11089 (from 1)\u001b[K\n",
            "Receiving objects: 100% (14271/14271), 4.59 MiB | 9.89 MiB/s, done.\n",
            "Resolving deltas: 100% (10004/10004), done.\n"
          ]
        }
      ],
      "source": [
        "!git clone https://github.com/namantuli18/opencompass.git"
      ]
    },
    {
      "cell_type": "code",
      "execution_count": null,
      "metadata": {
        "colab": {
          "base_uri": "https://localhost:8080/"
        },
        "id": "vtjTMZPsTLfO",
        "outputId": "5059f468-ad06-47b2-9137-29bb41bd4884"
      },
      "outputs": [
        {
          "output_type": "stream",
          "name": "stdout",
          "text": [
            "Collecting faiss-gpu\n",
            "  Downloading faiss_gpu-1.7.2-cp310-cp310-manylinux_2_17_x86_64.manylinux2014_x86_64.whl.metadata (1.4 kB)\n",
            "Downloading faiss_gpu-1.7.2-cp310-cp310-manylinux_2_17_x86_64.manylinux2014_x86_64.whl (85.5 MB)\n",
            "\u001b[2K   \u001b[90m━━━━━━━━━━━━━━━━━━━━━━━━━━━━━━━━━━━━━━━━\u001b[0m \u001b[32m85.5/85.5 MB\u001b[0m \u001b[31m23.5 MB/s\u001b[0m eta \u001b[36m0:00:00\u001b[0m\n",
            "\u001b[?25hInstalling collected packages: faiss-gpu\n",
            "Successfully installed faiss-gpu-1.7.2\n"
          ]
        }
      ],
      "source": [
        "!pip install faiss-gpu"
      ]
    },
    {
      "cell_type": "code",
      "execution_count": null,
      "metadata": {
        "colab": {
          "base_uri": "https://localhost:8080/"
        },
        "id": "3YIPFAfCvlVu",
        "outputId": "1cc27e4b-3f95-49b7-fd53-1a84dfb87b0b"
      },
      "outputs": [
        {
          "output_type": "stream",
          "name": "stdout",
          "text": [
            "/content/opencompass\n"
          ]
        }
      ],
      "source": [
        "%cd /content/opencompass/"
      ]
    },
    {
      "cell_type": "code",
      "execution_count": null,
      "metadata": {
        "colab": {
          "base_uri": "https://localhost:8080/"
        },
        "id": "UmJpjeNdZM6t",
        "outputId": "cb3306ef-5e65-4332-bebf-14170a15424a"
      },
      "outputs": [
        {
          "output_type": "stream",
          "name": "stdout",
          "text": [
            "configs  LICENSE      opencompass  README_zh-CN.md  requirements.txt  setup.py\ttools\n",
            "docs\t MANIFEST.in  README.md    requirements     run.py\t      tests\n"
          ]
        }
      ],
      "source": [
        "!ls\n"
      ]
    },
    {
      "cell_type": "code",
      "execution_count": null,
      "metadata": {
        "colab": {
          "base_uri": "https://localhost:8080/"
        },
        "id": "5SN-fHTrvnPK",
        "outputId": "83aedcd5-8ae5-4b71-84b6-078ae343ee21"
      },
      "outputs": [
        {
          "output_type": "stream",
          "name": "stdout",
          "text": [
            "Obtaining file:///content/opencompass\n",
            "  Preparing metadata (setup.py) ... \u001b[?25l\u001b[?25hdone\n",
            "Requirement already satisfied: absl-py in /usr/local/lib/python3.10/dist-packages (from opencompass==0.3.5) (1.4.0)\n",
            "Requirement already satisfied: accelerate>=0.19.0 in /usr/local/lib/python3.10/dist-packages (from opencompass==0.3.5) (1.1.1)\n",
            "Collecting cpm_kernels (from opencompass==0.3.5)\n",
            "  Downloading cpm_kernels-1.0.11-py3-none-any.whl.metadata (1.2 kB)\n",
            "Collecting datasets>=2.12.0 (from opencompass==0.3.5)\n",
            "  Downloading datasets-3.1.0-py3-none-any.whl.metadata (20 kB)\n",
            "Collecting einops==0.5.0 (from opencompass==0.3.5)\n",
            "  Downloading einops-0.5.0-py3-none-any.whl.metadata (11 kB)\n",
            "Collecting evaluate>=0.3.0 (from opencompass==0.3.5)\n",
            "  Downloading evaluate-0.4.3-py3-none-any.whl.metadata (9.2 kB)\n",
            "Collecting func_timeout (from opencompass==0.3.5)\n",
            "  Downloading func_timeout-4.3.5.tar.gz (44 kB)\n",
            "\u001b[2K     \u001b[90m━━━━━━━━━━━━━━━━━━━━━━━━━━━━━━━━━━━━━━━━\u001b[0m \u001b[32m44.3/44.3 kB\u001b[0m \u001b[31m4.1 MB/s\u001b[0m eta \u001b[36m0:00:00\u001b[0m\n",
            "\u001b[?25h  Preparing metadata (setup.py) ... \u001b[?25l\u001b[?25hdone\n",
            "Collecting fuzzywuzzy (from opencompass==0.3.5)\n",
            "  Downloading fuzzywuzzy-0.18.0-py2.py3-none-any.whl.metadata (4.9 kB)\n",
            "Requirement already satisfied: h5py in /usr/local/lib/python3.10/dist-packages (from opencompass==0.3.5) (3.12.1)\n",
            "Collecting huggingface_hub<=0.24.7 (from opencompass==0.3.5)\n",
            "  Downloading huggingface_hub-0.24.7-py3-none-any.whl.metadata (13 kB)\n",
            "Requirement already satisfied: immutabledict in /usr/local/lib/python3.10/dist-packages (from opencompass==0.3.5) (4.2.1)\n",
            "Requirement already satisfied: jieba in /usr/local/lib/python3.10/dist-packages (from opencompass==0.3.5) (0.42.1)\n",
            "Collecting json5 (from opencompass==0.3.5)\n",
            "  Downloading json5-0.10.0-py3-none-any.whl.metadata (34 kB)\n",
            "Collecting mmengine-lite (from opencompass==0.3.5)\n",
            "  Downloading mmengine_lite-0.10.5-py3-none-any.whl.metadata (20 kB)\n",
            "Collecting nltk==3.8 (from opencompass==0.3.5)\n",
            "  Using cached nltk-3.8-py3-none-any.whl.metadata (2.8 kB)\n",
            "Requirement already satisfied: numpy<2.0.0,>=1.23.4 in /usr/local/lib/python3.10/dist-packages (from opencompass==0.3.5) (1.26.4)\n",
            "Requirement already satisfied: openai in /usr/local/lib/python3.10/dist-packages (from opencompass==0.3.5) (1.54.4)\n",
            "Collecting OpenCC (from opencompass==0.3.5)\n",
            "  Downloading OpenCC-1.1.9-cp310-cp310-manylinux2014_x86_64.whl.metadata (13 kB)\n",
            "Requirement already satisfied: opencv-python-headless in /usr/local/lib/python3.10/dist-packages (from opencompass==0.3.5) (4.10.0.84)\n",
            "Collecting pandas<2.0.0 (from opencompass==0.3.5)\n",
            "  Downloading pandas-1.5.3-cp310-cp310-manylinux_2_17_x86_64.manylinux2014_x86_64.whl.metadata (11 kB)\n",
            "Requirement already satisfied: prettytable in /usr/local/lib/python3.10/dist-packages (from opencompass==0.3.5) (3.12.0)\n",
            "Requirement already satisfied: protobuf in /usr/local/lib/python3.10/dist-packages (from opencompass==0.3.5) (4.25.5)\n",
            "Collecting pyext (from opencompass==0.3.5)\n",
            "  Downloading pyext-0.7.tar.gz (7.8 kB)\n",
            "  Preparing metadata (setup.py) ... \u001b[?25l\u001b[?25hdone\n",
            "Collecting python-Levenshtein (from opencompass==0.3.5)\n",
            "  Downloading python_Levenshtein-0.26.1-py3-none-any.whl.metadata (3.7 kB)\n",
            "Collecting rank_bm25==0.2.2 (from opencompass==0.3.5)\n",
            "  Downloading rank_bm25-0.2.2-py3-none-any.whl.metadata (3.2 kB)\n",
            "Collecting rapidfuzz (from opencompass==0.3.5)\n",
            "  Downloading rapidfuzz-3.10.1-cp310-cp310-manylinux_2_17_x86_64.manylinux2014_x86_64.whl.metadata (11 kB)\n",
            "Requirement already satisfied: requests>=2.31.0 in /usr/local/lib/python3.10/dist-packages (from opencompass==0.3.5) (2.32.3)\n",
            "Collecting retrying (from opencompass==0.3.5)\n",
            "  Downloading retrying-1.3.4-py3-none-any.whl.metadata (6.9 kB)\n",
            "Requirement already satisfied: rich in /usr/local/lib/python3.10/dist-packages (from opencompass==0.3.5) (13.9.4)\n",
            "Collecting rouge (from opencompass==0.3.5)\n",
            "  Downloading rouge-1.0.1-py3-none-any.whl.metadata (4.1 kB)\n",
            "Collecting rouge_chinese (from opencompass==0.3.5)\n",
            "  Downloading rouge_chinese-1.0.3-py3-none-any.whl.metadata (7.6 kB)\n",
            "Collecting rouge_score (from opencompass==0.3.5)\n",
            "  Downloading rouge_score-0.1.2.tar.gz (17 kB)\n",
            "  Preparing metadata (setup.py) ... \u001b[?25l\u001b[?25hdone\n",
            "Collecting sacrebleu (from opencompass==0.3.5)\n",
            "  Downloading sacrebleu-2.4.3-py3-none-any.whl.metadata (51 kB)\n",
            "\u001b[2K     \u001b[90m━━━━━━━━━━━━━━━━━━━━━━━━━━━━━━━━━━━━━━━━\u001b[0m \u001b[32m51.8/51.8 kB\u001b[0m \u001b[31m4.8 MB/s\u001b[0m eta \u001b[36m0:00:00\u001b[0m\n",
            "\u001b[?25hCollecting scikit_learn==1.5.0 (from opencompass==0.3.5)\n",
            "  Downloading scikit_learn-1.5.0-cp310-cp310-manylinux_2_17_x86_64.manylinux2014_x86_64.whl.metadata (11 kB)\n",
            "Requirement already satisfied: seaborn in /usr/local/lib/python3.10/dist-packages (from opencompass==0.3.5) (0.13.2)\n",
            "Collecting sentence_transformers==2.2.2 (from opencompass==0.3.5)\n",
            "  Downloading sentence-transformers-2.2.2.tar.gz (85 kB)\n",
            "\u001b[2K     \u001b[90m━━━━━━━━━━━━━━━━━━━━━━━━━━━━━━━━━━━━━━━━\u001b[0m \u001b[32m86.0/86.0 kB\u001b[0m \u001b[31m9.4 MB/s\u001b[0m eta \u001b[36m0:00:00\u001b[0m\n",
            "\u001b[?25h  Preparing metadata (setup.py) ... \u001b[?25l\u001b[?25hdone\n",
            "Requirement already satisfied: tabulate in /usr/local/lib/python3.10/dist-packages (from opencompass==0.3.5) (0.9.0)\n",
            "Collecting tiktoken (from opencompass==0.3.5)\n",
            "  Downloading tiktoken-0.8.0-cp310-cp310-manylinux_2_17_x86_64.manylinux2014_x86_64.whl.metadata (6.6 kB)\n",
            "Collecting timeout_decorator (from opencompass==0.3.5)\n",
            "  Downloading timeout-decorator-0.5.0.tar.gz (4.8 kB)\n",
            "  Preparing metadata (setup.py) ... \u001b[?25l\u001b[?25hdone\n",
            "Requirement already satisfied: tokenizers>=0.13.3 in /usr/local/lib/python3.10/dist-packages (from opencompass==0.3.5) (0.20.3)\n",
            "Requirement already satisfied: torch>=1.13.1 in /usr/local/lib/python3.10/dist-packages (from opencompass==0.3.5) (2.5.1+cu121)\n",
            "Requirement already satisfied: tqdm>=4.64.1 in /usr/local/lib/python3.10/dist-packages (from opencompass==0.3.5) (4.66.6)\n",
            "Requirement already satisfied: transformers>=4.29.1 in /usr/local/lib/python3.10/dist-packages (from opencompass==0.3.5) (4.46.2)\n",
            "Requirement already satisfied: typer in /usr/local/lib/python3.10/dist-packages (from opencompass==0.3.5) (0.13.0)\n",
            "Requirement already satisfied: click in /usr/local/lib/python3.10/dist-packages (from nltk==3.8->opencompass==0.3.5) (8.1.7)\n",
            "Requirement already satisfied: joblib in /usr/local/lib/python3.10/dist-packages (from nltk==3.8->opencompass==0.3.5) (1.4.2)\n",
            "Requirement already satisfied: regex>=2021.8.3 in /usr/local/lib/python3.10/dist-packages (from nltk==3.8->opencompass==0.3.5) (2024.9.11)\n",
            "Requirement already satisfied: scipy>=1.6.0 in /usr/local/lib/python3.10/dist-packages (from scikit_learn==1.5.0->opencompass==0.3.5) (1.13.1)\n",
            "Requirement already satisfied: threadpoolctl>=3.1.0 in /usr/local/lib/python3.10/dist-packages (from scikit_learn==1.5.0->opencompass==0.3.5) (3.5.0)\n",
            "Requirement already satisfied: torchvision in /usr/local/lib/python3.10/dist-packages (from sentence_transformers==2.2.2->opencompass==0.3.5) (0.20.1+cu121)\n",
            "Requirement already satisfied: sentencepiece in /usr/local/lib/python3.10/dist-packages (from sentence_transformers==2.2.2->opencompass==0.3.5) (0.2.0)\n",
            "Requirement already satisfied: packaging>=20.0 in /usr/local/lib/python3.10/dist-packages (from accelerate>=0.19.0->opencompass==0.3.5) (24.2)\n",
            "Requirement already satisfied: psutil in /usr/local/lib/python3.10/dist-packages (from accelerate>=0.19.0->opencompass==0.3.5) (5.9.5)\n",
            "Requirement already satisfied: pyyaml in /usr/local/lib/python3.10/dist-packages (from accelerate>=0.19.0->opencompass==0.3.5) (6.0.2)\n",
            "Requirement already satisfied: safetensors>=0.4.3 in /usr/local/lib/python3.10/dist-packages (from accelerate>=0.19.0->opencompass==0.3.5) (0.4.5)\n",
            "Requirement already satisfied: filelock in /usr/local/lib/python3.10/dist-packages (from datasets>=2.12.0->opencompass==0.3.5) (3.16.1)\n",
            "Requirement already satisfied: pyarrow>=15.0.0 in /usr/local/lib/python3.10/dist-packages (from datasets>=2.12.0->opencompass==0.3.5) (17.0.0)\n",
            "Collecting dill<0.3.9,>=0.3.0 (from datasets>=2.12.0->opencompass==0.3.5)\n",
            "  Downloading dill-0.3.8-py3-none-any.whl.metadata (10 kB)\n",
            "Collecting xxhash (from datasets>=2.12.0->opencompass==0.3.5)\n",
            "  Downloading xxhash-3.5.0-cp310-cp310-manylinux_2_17_x86_64.manylinux2014_x86_64.whl.metadata (12 kB)\n",
            "Collecting multiprocess<0.70.17 (from datasets>=2.12.0->opencompass==0.3.5)\n",
            "  Downloading multiprocess-0.70.16-py310-none-any.whl.metadata (7.2 kB)\n",
            "Collecting fsspec<=2024.9.0,>=2023.1.0 (from fsspec[http]<=2024.9.0,>=2023.1.0->datasets>=2.12.0->opencompass==0.3.5)\n",
            "  Downloading fsspec-2024.9.0-py3-none-any.whl.metadata (11 kB)\n",
            "Requirement already satisfied: aiohttp in /usr/local/lib/python3.10/dist-packages (from datasets>=2.12.0->opencompass==0.3.5) (3.11.2)\n",
            "Requirement already satisfied: typing-extensions>=3.7.4.3 in /usr/local/lib/python3.10/dist-packages (from huggingface_hub<=0.24.7->opencompass==0.3.5) (4.12.2)\n",
            "Requirement already satisfied: python-dateutil>=2.8.1 in /usr/local/lib/python3.10/dist-packages (from pandas<2.0.0->opencompass==0.3.5) (2.8.2)\n",
            "Requirement already satisfied: pytz>=2020.1 in /usr/local/lib/python3.10/dist-packages (from pandas<2.0.0->opencompass==0.3.5) (2024.2)\n",
            "Requirement already satisfied: charset-normalizer<4,>=2 in /usr/local/lib/python3.10/dist-packages (from requests>=2.31.0->opencompass==0.3.5) (3.4.0)\n",
            "Requirement already satisfied: idna<4,>=2.5 in /usr/local/lib/python3.10/dist-packages (from requests>=2.31.0->opencompass==0.3.5) (3.10)\n",
            "Requirement already satisfied: urllib3<3,>=1.21.1 in /usr/local/lib/python3.10/dist-packages (from requests>=2.31.0->opencompass==0.3.5) (2.2.3)\n",
            "Requirement already satisfied: certifi>=2017.4.17 in /usr/local/lib/python3.10/dist-packages (from requests>=2.31.0->opencompass==0.3.5) (2024.8.30)\n",
            "Requirement already satisfied: networkx in /usr/local/lib/python3.10/dist-packages (from torch>=1.13.1->opencompass==0.3.5) (3.4.2)\n",
            "Requirement already satisfied: jinja2 in /usr/local/lib/python3.10/dist-packages (from torch>=1.13.1->opencompass==0.3.5) (3.1.4)\n",
            "Requirement already satisfied: sympy==1.13.1 in /usr/local/lib/python3.10/dist-packages (from torch>=1.13.1->opencompass==0.3.5) (1.13.1)\n",
            "Requirement already satisfied: mpmath<1.4,>=1.1.0 in /usr/local/lib/python3.10/dist-packages (from sympy==1.13.1->torch>=1.13.1->opencompass==0.3.5) (1.3.0)\n",
            "Collecting addict (from mmengine-lite->opencompass==0.3.5)\n",
            "  Downloading addict-2.4.0-py3-none-any.whl.metadata (1.0 kB)\n",
            "Requirement already satisfied: termcolor in /usr/local/lib/python3.10/dist-packages (from mmengine-lite->opencompass==0.3.5) (2.5.0)\n",
            "Collecting yapf (from mmengine-lite->opencompass==0.3.5)\n",
            "  Downloading yapf-0.43.0-py3-none-any.whl.metadata (46 kB)\n",
            "\u001b[2K     \u001b[90m━━━━━━━━━━━━━━━━━━━━━━━━━━━━━━━━━━━━━━━━\u001b[0m \u001b[32m46.8/46.8 kB\u001b[0m \u001b[31m5.2 MB/s\u001b[0m eta \u001b[36m0:00:00\u001b[0m\n",
            "\u001b[?25hRequirement already satisfied: anyio<5,>=3.5.0 in /usr/local/lib/python3.10/dist-packages (from openai->opencompass==0.3.5) (3.7.1)\n",
            "Requirement already satisfied: distro<2,>=1.7.0 in /usr/local/lib/python3.10/dist-packages (from openai->opencompass==0.3.5) (1.9.0)\n",
            "Requirement already satisfied: httpx<1,>=0.23.0 in /usr/local/lib/python3.10/dist-packages (from openai->opencompass==0.3.5) (0.27.2)\n",
            "Requirement already satisfied: jiter<1,>=0.4.0 in /usr/local/lib/python3.10/dist-packages (from openai->opencompass==0.3.5) (0.7.1)\n",
            "Requirement already satisfied: pydantic<3,>=1.9.0 in /usr/local/lib/python3.10/dist-packages (from openai->opencompass==0.3.5) (2.9.2)\n",
            "Requirement already satisfied: sniffio in /usr/local/lib/python3.10/dist-packages (from openai->opencompass==0.3.5) (1.3.1)\n",
            "Requirement already satisfied: wcwidth in /usr/local/lib/python3.10/dist-packages (from prettytable->opencompass==0.3.5) (0.2.13)\n",
            "Collecting Levenshtein==0.26.1 (from python-Levenshtein->opencompass==0.3.5)\n",
            "  Downloading levenshtein-0.26.1-cp310-cp310-manylinux_2_17_x86_64.manylinux2014_x86_64.whl.metadata (3.2 kB)\n",
            "Requirement already satisfied: six>=1.7.0 in /usr/local/lib/python3.10/dist-packages (from retrying->opencompass==0.3.5) (1.16.0)\n",
            "Requirement already satisfied: markdown-it-py>=2.2.0 in /usr/local/lib/python3.10/dist-packages (from rich->opencompass==0.3.5) (3.0.0)\n",
            "Requirement already satisfied: pygments<3.0.0,>=2.13.0 in /usr/local/lib/python3.10/dist-packages (from rich->opencompass==0.3.5) (2.18.0)\n",
            "Collecting portalocker (from sacrebleu->opencompass==0.3.5)\n",
            "  Downloading portalocker-3.0.0-py3-none-any.whl.metadata (8.5 kB)\n",
            "Collecting colorama (from sacrebleu->opencompass==0.3.5)\n",
            "  Downloading colorama-0.4.6-py2.py3-none-any.whl.metadata (17 kB)\n",
            "Requirement already satisfied: lxml in /usr/local/lib/python3.10/dist-packages (from sacrebleu->opencompass==0.3.5) (5.3.0)\n",
            "Requirement already satisfied: matplotlib!=3.6.1,>=3.4 in /usr/local/lib/python3.10/dist-packages (from seaborn->opencompass==0.3.5) (3.8.0)\n",
            "Requirement already satisfied: shellingham>=1.3.0 in /usr/local/lib/python3.10/dist-packages (from typer->opencompass==0.3.5) (1.5.4)\n",
            "Requirement already satisfied: exceptiongroup in /usr/local/lib/python3.10/dist-packages (from anyio<5,>=3.5.0->openai->opencompass==0.3.5) (1.2.2)\n",
            "Requirement already satisfied: aiohappyeyeballs>=2.3.0 in /usr/local/lib/python3.10/dist-packages (from aiohttp->datasets>=2.12.0->opencompass==0.3.5) (2.4.3)\n",
            "Requirement already satisfied: aiosignal>=1.1.2 in /usr/local/lib/python3.10/dist-packages (from aiohttp->datasets>=2.12.0->opencompass==0.3.5) (1.3.1)\n",
            "Requirement already satisfied: attrs>=17.3.0 in /usr/local/lib/python3.10/dist-packages (from aiohttp->datasets>=2.12.0->opencompass==0.3.5) (24.2.0)\n",
            "Requirement already satisfied: frozenlist>=1.1.1 in /usr/local/lib/python3.10/dist-packages (from aiohttp->datasets>=2.12.0->opencompass==0.3.5) (1.5.0)\n",
            "Requirement already satisfied: multidict<7.0,>=4.5 in /usr/local/lib/python3.10/dist-packages (from aiohttp->datasets>=2.12.0->opencompass==0.3.5) (6.1.0)\n",
            "Requirement already satisfied: propcache>=0.2.0 in /usr/local/lib/python3.10/dist-packages (from aiohttp->datasets>=2.12.0->opencompass==0.3.5) (0.2.0)\n",
            "Requirement already satisfied: yarl<2.0,>=1.17.0 in /usr/local/lib/python3.10/dist-packages (from aiohttp->datasets>=2.12.0->opencompass==0.3.5) (1.17.2)\n",
            "Requirement already satisfied: async-timeout<6.0,>=4.0 in /usr/local/lib/python3.10/dist-packages (from aiohttp->datasets>=2.12.0->opencompass==0.3.5) (4.0.3)\n",
            "Requirement already satisfied: httpcore==1.* in /usr/local/lib/python3.10/dist-packages (from httpx<1,>=0.23.0->openai->opencompass==0.3.5) (1.0.7)\n",
            "Requirement already satisfied: h11<0.15,>=0.13 in /usr/local/lib/python3.10/dist-packages (from httpcore==1.*->httpx<1,>=0.23.0->openai->opencompass==0.3.5) (0.14.0)\n",
            "Requirement already satisfied: mdurl~=0.1 in /usr/local/lib/python3.10/dist-packages (from markdown-it-py>=2.2.0->rich->opencompass==0.3.5) (0.1.2)\n",
            "Requirement already satisfied: contourpy>=1.0.1 in /usr/local/lib/python3.10/dist-packages (from matplotlib!=3.6.1,>=3.4->seaborn->opencompass==0.3.5) (1.3.1)\n",
            "Requirement already satisfied: cycler>=0.10 in /usr/local/lib/python3.10/dist-packages (from matplotlib!=3.6.1,>=3.4->seaborn->opencompass==0.3.5) (0.12.1)\n",
            "Requirement already satisfied: fonttools>=4.22.0 in /usr/local/lib/python3.10/dist-packages (from matplotlib!=3.6.1,>=3.4->seaborn->opencompass==0.3.5) (4.55.0)\n",
            "Requirement already satisfied: kiwisolver>=1.0.1 in /usr/local/lib/python3.10/dist-packages (from matplotlib!=3.6.1,>=3.4->seaborn->opencompass==0.3.5) (1.4.7)\n",
            "Requirement already satisfied: pillow>=6.2.0 in /usr/local/lib/python3.10/dist-packages (from matplotlib!=3.6.1,>=3.4->seaborn->opencompass==0.3.5) (11.0.0)\n",
            "Requirement already satisfied: pyparsing>=2.3.1 in /usr/local/lib/python3.10/dist-packages (from matplotlib!=3.6.1,>=3.4->seaborn->opencompass==0.3.5) (3.2.0)\n",
            "Requirement already satisfied: annotated-types>=0.6.0 in /usr/local/lib/python3.10/dist-packages (from pydantic<3,>=1.9.0->openai->opencompass==0.3.5) (0.7.0)\n",
            "Requirement already satisfied: pydantic-core==2.23.4 in /usr/local/lib/python3.10/dist-packages (from pydantic<3,>=1.9.0->openai->opencompass==0.3.5) (2.23.4)\n",
            "Requirement already satisfied: MarkupSafe>=2.0 in /usr/local/lib/python3.10/dist-packages (from jinja2->torch>=1.13.1->opencompass==0.3.5) (3.0.2)\n",
            "Requirement already satisfied: platformdirs>=3.5.1 in /usr/local/lib/python3.10/dist-packages (from yapf->mmengine-lite->opencompass==0.3.5) (4.3.6)\n",
            "Requirement already satisfied: tomli>=2.0.1 in /usr/local/lib/python3.10/dist-packages (from yapf->mmengine-lite->opencompass==0.3.5) (2.1.0)\n",
            "Downloading einops-0.5.0-py3-none-any.whl (36 kB)\n",
            "Using cached nltk-3.8-py3-none-any.whl (1.5 MB)\n",
            "Downloading rank_bm25-0.2.2-py3-none-any.whl (8.6 kB)\n",
            "Downloading scikit_learn-1.5.0-cp310-cp310-manylinux_2_17_x86_64.manylinux2014_x86_64.whl (13.3 MB)\n",
            "\u001b[2K   \u001b[90m━━━━━━━━━━━━━━━━━━━━━━━━━━━━━━━━━━━━━━━━\u001b[0m \u001b[32m13.3/13.3 MB\u001b[0m \u001b[31m105.6 MB/s\u001b[0m eta \u001b[36m0:00:00\u001b[0m\n",
            "\u001b[?25hDownloading datasets-3.1.0-py3-none-any.whl (480 kB)\n",
            "\u001b[2K   \u001b[90m━━━━━━━━━━━━━━━━━━━━━━━━━━━━━━━━━━━━━━━━\u001b[0m \u001b[32m480.6/480.6 kB\u001b[0m \u001b[31m41.9 MB/s\u001b[0m eta \u001b[36m0:00:00\u001b[0m\n",
            "\u001b[?25hDownloading evaluate-0.4.3-py3-none-any.whl (84 kB)\n",
            "\u001b[2K   \u001b[90m━━━━━━━━━━━━━━━━━━━━━━━━━━━━━━━━━━━━━━━━\u001b[0m \u001b[32m84.0/84.0 kB\u001b[0m \u001b[31m10.4 MB/s\u001b[0m eta \u001b[36m0:00:00\u001b[0m\n",
            "\u001b[?25hDownloading huggingface_hub-0.24.7-py3-none-any.whl (417 kB)\n",
            "\u001b[2K   \u001b[90m━━━━━━━━━━━━━━━━━━━━━━━━━━━━━━━━━━━━━━━━\u001b[0m \u001b[32m417.5/417.5 kB\u001b[0m \u001b[31m35.9 MB/s\u001b[0m eta \u001b[36m0:00:00\u001b[0m\n",
            "\u001b[?25hDownloading pandas-1.5.3-cp310-cp310-manylinux_2_17_x86_64.manylinux2014_x86_64.whl (12.1 MB)\n",
            "\u001b[2K   \u001b[90m━━━━━━━━━━━━━━━━━━━━━━━━━━━━━━━━━━━━━━━━\u001b[0m \u001b[32m12.1/12.1 MB\u001b[0m \u001b[31m115.3 MB/s\u001b[0m eta \u001b[36m0:00:00\u001b[0m\n",
            "\u001b[?25hDownloading cpm_kernels-1.0.11-py3-none-any.whl (416 kB)\n",
            "\u001b[2K   \u001b[90m━━━━━━━━━━━━━━━━━━━━━━━━━━━━━━━━━━━━━━━━\u001b[0m \u001b[32m416.6/416.6 kB\u001b[0m \u001b[31m36.1 MB/s\u001b[0m eta \u001b[36m0:00:00\u001b[0m\n",
            "\u001b[?25hDownloading fuzzywuzzy-0.18.0-py2.py3-none-any.whl (18 kB)\n",
            "Downloading json5-0.10.0-py3-none-any.whl (34 kB)\n",
            "Downloading mmengine_lite-0.10.5-py3-none-any.whl (452 kB)\n",
            "\u001b[2K   \u001b[90m━━━━━━━━━━━━━━━━━━━━━━━━━━━━━━━━━━━━━━━━\u001b[0m \u001b[32m452.4/452.4 kB\u001b[0m \u001b[31m36.5 MB/s\u001b[0m eta \u001b[36m0:00:00\u001b[0m\n",
            "\u001b[?25hDownloading OpenCC-1.1.9-cp310-cp310-manylinux2014_x86_64.whl (1.7 MB)\n",
            "\u001b[2K   \u001b[90m━━━━━━━━━━━━━━━━━━━━━━━━━━━━━━━━━━━━━━━━\u001b[0m \u001b[32m1.7/1.7 MB\u001b[0m \u001b[31m79.9 MB/s\u001b[0m eta \u001b[36m0:00:00\u001b[0m\n",
            "\u001b[?25hDownloading python_Levenshtein-0.26.1-py3-none-any.whl (9.4 kB)\n",
            "Downloading levenshtein-0.26.1-cp310-cp310-manylinux_2_17_x86_64.manylinux2014_x86_64.whl (162 kB)\n",
            "\u001b[2K   \u001b[90m━━━━━━━━━━━━━━━━━━━━━━━━━━━━━━━━━━━━━━━━\u001b[0m \u001b[32m162.6/162.6 kB\u001b[0m \u001b[31m19.1 MB/s\u001b[0m eta \u001b[36m0:00:00\u001b[0m\n",
            "\u001b[?25hDownloading rapidfuzz-3.10.1-cp310-cp310-manylinux_2_17_x86_64.manylinux2014_x86_64.whl (3.1 MB)\n",
            "\u001b[2K   \u001b[90m━━━━━━━━━━━━━━━━━━━━━━━━━━━━━━━━━━━━━━━━\u001b[0m \u001b[32m3.1/3.1 MB\u001b[0m \u001b[31m101.8 MB/s\u001b[0m eta \u001b[36m0:00:00\u001b[0m\n",
            "\u001b[?25hDownloading retrying-1.3.4-py3-none-any.whl (11 kB)\n",
            "Downloading rouge-1.0.1-py3-none-any.whl (13 kB)\n",
            "Downloading rouge_chinese-1.0.3-py3-none-any.whl (21 kB)\n",
            "Downloading sacrebleu-2.4.3-py3-none-any.whl (103 kB)\n",
            "\u001b[2K   \u001b[90m━━━━━━━━━━━━━━━━━━━━━━━━━━━━━━━━━━━━━━━━\u001b[0m \u001b[32m104.0/104.0 kB\u001b[0m \u001b[31m13.2 MB/s\u001b[0m eta \u001b[36m0:00:00\u001b[0m\n",
            "\u001b[?25hDownloading tiktoken-0.8.0-cp310-cp310-manylinux_2_17_x86_64.manylinux2014_x86_64.whl (1.2 MB)\n",
            "\u001b[2K   \u001b[90m━━━━━━━━━━━━━━━━━━━━━━━━━━━━━━━━━━━━━━━━\u001b[0m \u001b[32m1.2/1.2 MB\u001b[0m \u001b[31m71.7 MB/s\u001b[0m eta \u001b[36m0:00:00\u001b[0m\n",
            "\u001b[?25hDownloading dill-0.3.8-py3-none-any.whl (116 kB)\n",
            "\u001b[2K   \u001b[90m━━━━━━━━━━━━━━━━━━━━━━━━━━━━━━━━━━━━━━━━\u001b[0m \u001b[32m116.3/116.3 kB\u001b[0m \u001b[31m14.2 MB/s\u001b[0m eta \u001b[36m0:00:00\u001b[0m\n",
            "\u001b[?25hDownloading fsspec-2024.9.0-py3-none-any.whl (179 kB)\n",
            "\u001b[2K   \u001b[90m━━━━━━━━━━━━━━━━━━━━━━━━━━━━━━━━━━━━━━━━\u001b[0m \u001b[32m179.3/179.3 kB\u001b[0m \u001b[31m20.6 MB/s\u001b[0m eta \u001b[36m0:00:00\u001b[0m\n",
            "\u001b[?25hDownloading multiprocess-0.70.16-py310-none-any.whl (134 kB)\n",
            "\u001b[2K   \u001b[90m━━━━━━━━━━━━━━━━━━━━━━━━━━━━━━━━━━━━━━━━\u001b[0m \u001b[32m134.8/134.8 kB\u001b[0m \u001b[31m16.7 MB/s\u001b[0m eta \u001b[36m0:00:00\u001b[0m\n",
            "\u001b[?25hDownloading addict-2.4.0-py3-none-any.whl (3.8 kB)\n",
            "Downloading colorama-0.4.6-py2.py3-none-any.whl (25 kB)\n",
            "Downloading portalocker-3.0.0-py3-none-any.whl (19 kB)\n",
            "Downloading xxhash-3.5.0-cp310-cp310-manylinux_2_17_x86_64.manylinux2014_x86_64.whl (194 kB)\n",
            "\u001b[2K   \u001b[90m━━━━━━━━━━━━━━━━━━━━━━━━━━━━━━━━━━━━━━━━\u001b[0m \u001b[32m194.1/194.1 kB\u001b[0m \u001b[31m23.3 MB/s\u001b[0m eta \u001b[36m0:00:00\u001b[0m\n",
            "\u001b[?25hDownloading yapf-0.43.0-py3-none-any.whl (256 kB)\n",
            "\u001b[2K   \u001b[90m━━━━━━━━━━━━━━━━━━━━━━━━━━━━━━━━━━━━━━━━\u001b[0m \u001b[32m256.2/256.2 kB\u001b[0m \u001b[31m30.4 MB/s\u001b[0m eta \u001b[36m0:00:00\u001b[0m\n",
            "\u001b[?25hBuilding wheels for collected packages: sentence_transformers, func_timeout, pyext, rouge_score, timeout_decorator\n",
            "  Building wheel for sentence_transformers (setup.py) ... \u001b[?25l\u001b[?25hdone\n",
            "  Created wheel for sentence_transformers: filename=sentence_transformers-2.2.2-py3-none-any.whl size=125924 sha256=a7aaa48718f36ca4de6405d30da713c4c1b65f147260bd2f25633e79251f5c1a\n",
            "  Stored in directory: /root/.cache/pip/wheels/62/f2/10/1e606fd5f02395388f74e7462910fe851042f97238cbbd902f\n",
            "  Building wheel for func_timeout (setup.py) ... \u001b[?25l\u001b[?25hdone\n",
            "  Created wheel for func_timeout: filename=func_timeout-4.3.5-py3-none-any.whl size=15076 sha256=bc8addf2e5fa99df080cde8d3a489a000d91426553d61351f46528b45054143e\n",
            "  Stored in directory: /root/.cache/pip/wheels/3f/83/19/b5552bb9630e353f7c5b15be44bf10900afe1abbbfcf536afd\n",
            "  Building wheel for pyext (setup.py) ... \u001b[?25l\u001b[?25hdone\n",
            "  Created wheel for pyext: filename=pyext-0.7-py3-none-any.whl size=7222 sha256=70c39d9bb0c45e972a2383bfccfc4afb0b158131e45133de9de1ed6cb23e3c5c\n",
            "  Stored in directory: /root/.cache/pip/wheels/09/95/a9/f3f15c5e52dec7912c332ae503e82fd680e576bf336437f002\n",
            "  Building wheel for rouge_score (setup.py) ... \u001b[?25l\u001b[?25hdone\n",
            "  Created wheel for rouge_score: filename=rouge_score-0.1.2-py3-none-any.whl size=24935 sha256=3959eb241dc1445e21e250d6a2364760a8821dd800bb5a3ca747312cd21fda42\n",
            "  Stored in directory: /root/.cache/pip/wheels/5f/dd/89/461065a73be61a532ff8599a28e9beef17985c9e9c31e541b4\n",
            "  Building wheel for timeout_decorator (setup.py) ... \u001b[?25l\u001b[?25hdone\n",
            "  Created wheel for timeout_decorator: filename=timeout_decorator-0.5.0-py3-none-any.whl size=5007 sha256=08cd0e6f751227a134a1b4135da17c813eeb3fb873a8ed919a8852f59c4e95b4\n",
            "  Stored in directory: /root/.cache/pip/wheels/68/2f/bc/76f1192d474666d41ae6f09813fccbd00fe3f07e8261c4cff5\n",
            "Successfully built sentence_transformers func_timeout pyext rouge_score timeout_decorator\n",
            "Installing collected packages: timeout_decorator, pyext, OpenCC, fuzzywuzzy, func_timeout, cpm_kernels, addict, yapf, xxhash, rouge_chinese, rouge, retrying, rapidfuzz, rank_bm25, portalocker, nltk, json5, fsspec, einops, dill, colorama, tiktoken, scikit_learn, sacrebleu, rouge_score, pandas, multiprocess, Levenshtein, huggingface_hub, python-Levenshtein, mmengine-lite, sentence_transformers, datasets, evaluate, opencompass\n",
            "  Attempting uninstall: nltk\n",
            "    Found existing installation: nltk 3.9.1\n",
            "    Uninstalling nltk-3.9.1:\n",
            "      Successfully uninstalled nltk-3.9.1\n",
            "  Attempting uninstall: fsspec\n",
            "    Found existing installation: fsspec 2024.10.0\n",
            "    Uninstalling fsspec-2024.10.0:\n",
            "      Successfully uninstalled fsspec-2024.10.0\n",
            "  Attempting uninstall: einops\n",
            "    Found existing installation: einops 0.8.0\n",
            "    Uninstalling einops-0.8.0:\n",
            "      Successfully uninstalled einops-0.8.0\n",
            "  Attempting uninstall: scikit_learn\n",
            "    Found existing installation: scikit-learn 1.5.2\n",
            "    Uninstalling scikit-learn-1.5.2:\n",
            "      Successfully uninstalled scikit-learn-1.5.2\n",
            "  Attempting uninstall: pandas\n",
            "    Found existing installation: pandas 2.2.2\n",
            "    Uninstalling pandas-2.2.2:\n",
            "      Successfully uninstalled pandas-2.2.2\n",
            "  Attempting uninstall: huggingface_hub\n",
            "    Found existing installation: huggingface-hub 0.26.2\n",
            "    Uninstalling huggingface-hub-0.26.2:\n",
            "      Successfully uninstalled huggingface-hub-0.26.2\n",
            "  Attempting uninstall: sentence_transformers\n",
            "    Found existing installation: sentence-transformers 3.2.1\n",
            "    Uninstalling sentence-transformers-3.2.1:\n",
            "      Successfully uninstalled sentence-transformers-3.2.1\n",
            "  Running setup.py develop for opencompass\n",
            "\u001b[31mERROR: pip's dependency resolver does not currently take into account all the packages that are installed. This behaviour is the source of the following dependency conflicts.\n",
            "cudf-cu12 24.10.1 requires pandas<2.2.3dev0,>=2.0, but you have pandas 1.5.3 which is incompatible.\n",
            "gcsfs 2024.10.0 requires fsspec==2024.10.0, but you have fsspec 2024.9.0 which is incompatible.\n",
            "google-colab 1.0.0 requires pandas==2.2.2, but you have pandas 1.5.3 which is incompatible.\n",
            "mizani 0.13.0 requires pandas>=2.2.0, but you have pandas 1.5.3 which is incompatible.\n",
            "plotnine 0.14.1 requires pandas>=2.2.0, but you have pandas 1.5.3 which is incompatible.\n",
            "xarray 2024.10.0 requires pandas>=2.1, but you have pandas 1.5.3 which is incompatible.\u001b[0m\u001b[31m\n",
            "\u001b[0mSuccessfully installed Levenshtein-0.26.1 OpenCC-1.1.9 addict-2.4.0 colorama-0.4.6 cpm_kernels-1.0.11 datasets-3.1.0 dill-0.3.8 einops-0.5.0 evaluate-0.4.3 fsspec-2024.9.0 func_timeout-4.3.5 fuzzywuzzy-0.18.0 huggingface_hub-0.24.7 json5-0.10.0 mmengine-lite-0.10.5 multiprocess-0.70.16 nltk-3.8 opencompass-0.3.5 pandas-1.5.3 portalocker-3.0.0 pyext-0.7 python-Levenshtein-0.26.1 rank_bm25-0.2.2 rapidfuzz-3.10.1 retrying-1.3.4 rouge-1.0.1 rouge_chinese-1.0.3 rouge_score-0.1.2 sacrebleu-2.4.3 scikit_learn-1.5.0 sentence_transformers-2.2.2 tiktoken-0.8.0 timeout_decorator-0.5.0 xxhash-3.5.0 yapf-0.43.0\n"
          ]
        }
      ],
      "source": [
        "!pip install -e ."
      ]
    },
    {
      "cell_type": "markdown",
      "metadata": {
        "id": "56n7f6An7ajL"
      },
      "source": [
        "## Race Benchmark"
      ]
    },
    {
      "cell_type": "code",
      "execution_count": null,
      "metadata": {
        "id": "FO9X240V09ij",
        "colab": {
          "base_uri": "https://localhost:8080/"
        },
        "outputId": "9fc0065b-ca9d-4497-88eb-41f7d1fc1710"
      },
      "outputs": [
        {
          "output_type": "stream",
          "name": "stdout",
          "text": [
            "/content/opencompass/opencompass/__init__.py:17: UserWarning: Starting from v0.4.0, all AMOTIC configuration files currently located in `./configs/datasets`, `./configs/models`, and `./configs/summarizers` will be migrated to the `opencompass/configs/` package. Please update your configuration file paths accordingly.\n",
            "  _warn_about_config_migration()\n",
            "2024-11-28 23:07:38.496839: I tensorflow/core/util/port.cc:153] oneDNN custom operations are on. You may see slightly different numerical results due to floating-point round-off errors from different computation orders. To turn them off, set the environment variable `TF_ENABLE_ONEDNN_OPTS=0`.\n",
            "2024-11-28 23:07:38.513115: E external/local_xla/xla/stream_executor/cuda/cuda_fft.cc:485] Unable to register cuFFT factory: Attempting to register factory for plugin cuFFT when one has already been registered\n",
            "2024-11-28 23:07:38.533294: E external/local_xla/xla/stream_executor/cuda/cuda_dnn.cc:8454] Unable to register cuDNN factory: Attempting to register factory for plugin cuDNN when one has already been registered\n",
            "2024-11-28 23:07:38.539576: E external/local_xla/xla/stream_executor/cuda/cuda_blas.cc:1452] Unable to register cuBLAS factory: Attempting to register factory for plugin cuBLAS when one has already been registered\n",
            "2024-11-28 23:07:38.554667: I tensorflow/core/platform/cpu_feature_guard.cc:210] This TensorFlow binary is optimized to use available CPU instructions in performance-critical operations.\n",
            "To enable the following instructions: AVX2 AVX512F AVX512_VNNI FMA, in other operations, rebuild TensorFlow with the appropriate compiler flags.\n",
            "2024-11-28 23:07:39.690996: W tensorflow/compiler/tf2tensorrt/utils/py_utils.cc:38] TF-TRT Warning: Could not find TensorRT\n",
            "11/28 23:07:43 - OpenCompass - \u001b[5m\u001b[4m\u001b[33mWARNING\u001b[0m - Found ambiguous patterns, using the first matched config.\n",
            "+----------------------+----------------------------------------------------------------------+\n",
            "| Ambiguous patterns   | Matched files                                                        |\n",
            "|----------------------+----------------------------------------------------------------------|\n",
            "| race_ppl             | configs/datasets/race/race_ppl.py                                    |\n",
            "|                      | /content/opencompass/opencompass/configs/./datasets/race/race_ppl.py |\n",
            "+----------------------+----------------------------------------------------------------------+\n",
            "11/28 23:07:43 - OpenCompass - \u001b[4m\u001b[97mINFO\u001b[0m - Loading race_ppl: configs/datasets/race/race_ppl.py\n",
            "11/28 23:07:43 - OpenCompass - \u001b[5m\u001b[4m\u001b[33mWARNING\u001b[0m - Found ambiguous patterns, using the first matched config.\n",
            "+----------------------+-------------------------------------------------------------------+\n",
            "| Ambiguous patterns   | Matched files                                                     |\n",
            "|----------------------+-------------------------------------------------------------------|\n",
            "| example              | configs/summarizers/example.py                                    |\n",
            "|                      | /content/opencompass/opencompass/configs/./summarizers/example.py |\n",
            "+----------------------+-------------------------------------------------------------------+\n",
            "11/28 23:07:43 - OpenCompass - \u001b[4m\u001b[97mINFO\u001b[0m - Loading example: configs/summarizers/example.py\n",
            "11/28 23:07:43 - OpenCompass - \u001b[4m\u001b[97mINFO\u001b[0m - Current exp folder: outputs/default/20241128_230743\n",
            "11/28 23:07:43 - OpenCompass - \u001b[5m\u001b[4m\u001b[33mWARNING\u001b[0m - SlurmRunner is not used, so the partition argument is ignored.\n",
            "11/28 23:07:43 - OpenCompass - \u001b[4m\u001b[97mINFO\u001b[0m - ./data/race/ does not exist!Start Download data automatically!If you have downloaded the data before,You can specific `COMPASS_DATA_CACHE` to avoid downloading~\n",
            "Downloading http://opencompass.oss-cn-shanghai.aliyuncs.com/datasets/data/race.zip to /root/.cache/opencompass/data/race.zip\n",
            "\u001b[2K\u001b[32m2.7/2.7 MB\u001b[0m \u001b[90m━━━━━━━━━━━━━━━━━━━━━━━━━━━━━━━━━━━━━━━━━━━━━━━━━━━━━━━━━━━━━━━━━━━━━━━━━━━━━━━━━\u001b[0m \u001b[36m0:00:00\u001b[0m\n",
            "\u001b[?25hExtracting /root/.cache/opencompass/data/race.zip to /root/.cache/opencompass/data\n",
            "11/28 23:07:45 - OpenCompass - \u001b[4m\u001b[97mINFO\u001b[0m - Try to load the data from /root/.cache/opencompass/./data/race/\n",
            "11/28 23:07:45 - OpenCompass - \u001b[4m\u001b[97mINFO\u001b[0m - Partitioned into 1 tasks.\n",
            "launch OpenICLInfer[baichuan2-7b-hyperbolic-cluster-pruned_hf/race-middle,baichuan2-7b-hyperbolic-cluster-pruned_hf/race-high] on GPU 0\n",
            "100% 1/1 [1:08:19<00:00, 4099.55s/it]\n",
            "11/29 00:16:05 - OpenCompass - \u001b[4m\u001b[97mINFO\u001b[0m - Partitioned into 2 tasks.\n",
            "launch OpenICLEval[baichuan2-7b-hyperbolic-cluster-pruned_hf/race-middle] on CPU \n",
            "launch OpenICLEval[baichuan2-7b-hyperbolic-cluster-pruned_hf/race-high] on CPU \n",
            "100% 2/2 [00:24<00:00, 12.41s/it]\n",
            "dataset      version    metric    mode      baichuan2-7b-hyperbolic-cluster-pruned_hf\n",
            "-----------  ---------  --------  ------  -------------------------------------------\n",
            "race-middle  0c332f     accuracy  ppl                                           25.84\n",
            "race-high    0c332f     accuracy  ppl                                           25.61\n",
            "11/29 00:16:29 - OpenCompass - \u001b[4m\u001b[97mINFO\u001b[0m - write summary to /content/opencompass/outputs/default/20241128_230743/summary/summary_20241128_230743.txt\n",
            "11/29 00:16:29 - OpenCompass - \u001b[4m\u001b[97mINFO\u001b[0m - write csv to /content/opencompass/outputs/default/20241128_230743/summary/summary_20241128_230743.csv\n",
            "\n",
            "\n",
            "The markdown format results is as below:\n",
            "\n",
            "| dataset | version | metric | mode | baichuan2-7b-hyperbolic-cluster-pruned_hf |\n",
            "|----- | ----- | ----- | ----- | -----|\n",
            "| race-middle | 0c332f | accuracy | ppl | 25.84 |\n",
            "| race-high | 0c332f | accuracy | ppl | 25.61 |\n",
            "\n",
            "11/29 00:16:29 - OpenCompass - \u001b[4m\u001b[97mINFO\u001b[0m - write markdown summary to /content/opencompass/outputs/default/20241128_230743/summary/summary_20241128_230743.md\n"
          ]
        }
      ],
      "source": [
        "!python run.py \\\n",
        "    --datasets race_ppl \\\n",
        "    --hf-type base \\\n",
        "    --hf-path namannn/baichuan2-7b-hyperbolic-cluster-pruned \\\n",
        "    --tokenizer-path namannn/baichuan2-7b-hyperbolic-cluster-pruned \\\n",
        "    --model-kwargs device_map='auto' \\\n",
        "    --max-seq-len 1024 \\\n",
        "    --max-out-len 100 \\\n",
        "    --min-out-len 100 \\\n",
        "    --batch-size 8 \\\n",
        "    --hf-num-gpus 1"
      ]
    },
    {
      "cell_type": "markdown",
      "source": [
        "## Saving output folder"
      ],
      "metadata": {
        "id": "whZWKn2UANKI"
      }
    },
    {
      "cell_type": "code",
      "execution_count": null,
      "metadata": {
        "id": "LFGFZ0pmQ_cA",
        "colab": {
          "base_uri": "https://localhost:8080/",
          "height": 471
        },
        "outputId": "0ed7d0e0-ebea-406a-89bd-f8ae4f0ce40a"
      },
      "outputs": [
        {
          "output_type": "stream",
          "name": "stdout",
          "text": [
            "  adding: content/opencompass/outputs/ (stored 0%)\n",
            "  adding: content/opencompass/outputs/default/ (stored 0%)\n",
            "  adding: content/opencompass/outputs/default/20241128_230743/ (stored 0%)\n",
            "  adding: content/opencompass/outputs/default/20241128_230743/logs/ (stored 0%)\n",
            "  adding: content/opencompass/outputs/default/20241128_230743/logs/infer/ (stored 0%)\n",
            "  adding: content/opencompass/outputs/default/20241128_230743/logs/infer/baichuan2-7b-hyperbolic-cluster-pruned_hf/ (stored 0%)\n",
            "  adding: content/opencompass/outputs/default/20241128_230743/logs/infer/baichuan2-7b-hyperbolic-cluster-pruned_hf/race-middle.out (deflated 89%)\n",
            "  adding: content/opencompass/outputs/default/20241128_230743/logs/eval/ (stored 0%)\n",
            "  adding: content/opencompass/outputs/default/20241128_230743/logs/eval/baichuan2-7b-hyperbolic-cluster-pruned_hf/ (stored 0%)\n",
            "  adding: content/opencompass/outputs/default/20241128_230743/logs/eval/baichuan2-7b-hyperbolic-cluster-pruned_hf/race-middle.out (deflated 56%)\n",
            "  adding: content/opencompass/outputs/default/20241128_230743/logs/eval/baichuan2-7b-hyperbolic-cluster-pruned_hf/race-high.out (deflated 55%)\n",
            "  adding: content/opencompass/outputs/default/20241128_230743/summary/ (stored 0%)\n",
            "  adding: content/opencompass/outputs/default/20241128_230743/summary/summary_20241128_230743.csv (deflated 27%)\n",
            "  adding: content/opencompass/outputs/default/20241128_230743/summary/summary_20241128_230743.md (deflated 41%)\n",
            "  adding: content/opencompass/outputs/default/20241128_230743/summary/summary_20241128_230743.txt (deflated 85%)\n",
            "  adding: content/opencompass/outputs/default/20241128_230743/predictions/ (stored 0%)\n",
            "  adding: content/opencompass/outputs/default/20241128_230743/predictions/baichuan2-7b-hyperbolic-cluster-pruned_hf/ (stored 0%)\n",
            "  adding: content/opencompass/outputs/default/20241128_230743/predictions/baichuan2-7b-hyperbolic-cluster-pruned_hf/race-high.json (deflated 97%)\n",
            "  adding: content/opencompass/outputs/default/20241128_230743/predictions/baichuan2-7b-hyperbolic-cluster-pruned_hf/race-middle.json (deflated 97%)\n",
            "  adding: content/opencompass/outputs/default/20241128_230743/configs/ (stored 0%)\n",
            "  adding: content/opencompass/outputs/default/20241128_230743/configs/20241128_230743_4422.py (deflated 91%)\n",
            "  adding: content/opencompass/outputs/default/20241128_230743/results/ (stored 0%)\n",
            "  adding: content/opencompass/outputs/default/20241128_230743/results/baichuan2-7b-hyperbolic-cluster-pruned_hf/ (stored 0%)\n",
            "  adding: content/opencompass/outputs/default/20241128_230743/results/baichuan2-7b-hyperbolic-cluster-pruned_hf/race-high.json (stored 0%)\n",
            "  adding: content/opencompass/outputs/default/20241128_230743/results/baichuan2-7b-hyperbolic-cluster-pruned_hf/race-middle.json (stored 0%)\n"
          ]
        },
        {
          "output_type": "display_data",
          "data": {
            "text/plain": [
              "<IPython.core.display.Javascript object>"
            ],
            "application/javascript": [
              "\n",
              "    async function download(id, filename, size) {\n",
              "      if (!google.colab.kernel.accessAllowed) {\n",
              "        return;\n",
              "      }\n",
              "      const div = document.createElement('div');\n",
              "      const label = document.createElement('label');\n",
              "      label.textContent = `Downloading \"${filename}\": `;\n",
              "      div.appendChild(label);\n",
              "      const progress = document.createElement('progress');\n",
              "      progress.max = size;\n",
              "      div.appendChild(progress);\n",
              "      document.body.appendChild(div);\n",
              "\n",
              "      const buffers = [];\n",
              "      let downloaded = 0;\n",
              "\n",
              "      const channel = await google.colab.kernel.comms.open(id);\n",
              "      // Send a message to notify the kernel that we're ready.\n",
              "      channel.send({})\n",
              "\n",
              "      for await (const message of channel.messages) {\n",
              "        // Send a message to notify the kernel that we're ready.\n",
              "        channel.send({})\n",
              "        if (message.buffers) {\n",
              "          for (const buffer of message.buffers) {\n",
              "            buffers.push(buffer);\n",
              "            downloaded += buffer.byteLength;\n",
              "            progress.value = downloaded;\n",
              "          }\n",
              "        }\n",
              "      }\n",
              "      const blob = new Blob(buffers, {type: 'application/binary'});\n",
              "      const a = document.createElement('a');\n",
              "      a.href = window.URL.createObjectURL(blob);\n",
              "      a.download = filename;\n",
              "      div.appendChild(a);\n",
              "      a.click();\n",
              "      div.remove();\n",
              "    }\n",
              "  "
            ]
          },
          "metadata": {}
        },
        {
          "output_type": "display_data",
          "data": {
            "text/plain": [
              "<IPython.core.display.Javascript object>"
            ],
            "application/javascript": [
              "download(\"download_68e58afa-b486-449b-b1f6-c8a7ee62068e\", \"baichuan-7b-clustered-race.zip\", 2784002)"
            ]
          },
          "metadata": {}
        }
      ],
      "source": [
        "from google.colab import files\n",
        "\n",
        "!zip -r baichuan-7b-clustered-race.zip /content/opencompass/outputs\n",
        "files.download('baichuan-7b-clustered-race.zip')"
      ]
    }
  ],
  "metadata": {
    "accelerator": "GPU",
    "colab": {
      "gpuType": "L4",
      "provenance": [],
      "machine_shape": "hm"
    },
    "kernelspec": {
      "display_name": "Python 3",
      "name": "python3"
    },
    "language_info": {
      "name": "python"
    }
  },
  "nbformat": 4,
  "nbformat_minor": 0
}